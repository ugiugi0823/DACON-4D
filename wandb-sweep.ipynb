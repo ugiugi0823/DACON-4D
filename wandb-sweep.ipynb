{
  "cells": [
    {
      "cell_type": "code",
      "source": [
        "import os\n",
        "from zipfile import ZipFile\n",
        "from google.colab import drive\n",
        "\n",
        "# Drive Mount\n",
        "drive.mount('/content/drive')\n",
        "\n",
        "# 알집이 있는 경로에서 open.zip을 가져옵니다\n",
        "dir = '/content/drive/MyDrive/DACON/Podiblock_Structure_Extraction_AI_Contest/'\n",
        "\n",
        "# 실제로 알집이 풀어질 경로\n",
        "base_dir = '/content/'\n",
        "# os.chdir(base_dir)\n",
        "\n",
        "# 알집을 풀어볼까용?\n",
        "ZipFile(dir + 'open.zip').extractall(base_dir)\n",
        "\n",
        "# 실제로 잘 풀렸는지 확인\n",
        "os.listdir(base_dir)\n"
      ],
      "metadata": {
        "id": "nuZhPkGA0svu",
        "colab": {
          "base_uri": "https://localhost:8080/"
        },
        "outputId": "9a93052f-b00e-4124-f2ba-5123a0d6b6de"
      },
      "id": "nuZhPkGA0svu",
      "execution_count": null,
      "outputs": [
        {
          "output_type": "stream",
          "name": "stdout",
          "text": [
            "Mounted at /content/drive\n"
          ]
        },
        {
          "output_type": "execute_result",
          "data": {
            "text/plain": [
              "['.config',\n",
              " 'test.csv',\n",
              " 'train',\n",
              " 'drive',\n",
              " 'train.csv',\n",
              " 'test',\n",
              " 'sample_submission.csv',\n",
              " 'sample_data']"
            ]
          },
          "metadata": {},
          "execution_count": 1
        }
      ]
    },
    {
      "cell_type": "markdown",
      "id": "a2bcba5f-002e-4f49-9622-ada6117faf0a",
      "metadata": {
        "id": "a2bcba5f-002e-4f49-9622-ada6117faf0a"
      },
      "source": [
        "## Import"
      ]
    },
    {
      "cell_type": "code",
      "execution_count": null,
      "id": "2b0d9b68-7102-4eca-9543-3b9b8acafc6e",
      "metadata": {
        "id": "2b0d9b68-7102-4eca-9543-3b9b8acafc6e"
      },
      "outputs": [],
      "source": [
        "import random\n",
        "import pandas as pd\n",
        "import numpy as np\n",
        "import os\n",
        "import cv2\n",
        "\n",
        "import torch\n",
        "import torch.nn as nn\n",
        "import torch.optim as optim\n",
        "import torch.nn.functional as F\n",
        "from torch.utils.data import Dataset, DataLoader\n",
        "\n",
        "import albumentations as A\n",
        "from albumentations.pytorch.transforms import ToTensorV2\n",
        "import torchvision.models as models\n",
        "\n",
        "from tqdm.auto import tqdm\n",
        "from sklearn.metrics import accuracy_score\n",
        "\n",
        "import warnings\n",
        "warnings.filterwarnings(action='ignore') "
      ]
    },
    {
      "cell_type": "code",
      "execution_count": null,
      "id": "d13862e3-bb27-47af-9b58-a9fbf804df71",
      "metadata": {
        "id": "d13862e3-bb27-47af-9b58-a9fbf804df71"
      },
      "outputs": [],
      "source": [
        "device = torch.device('cuda') if torch.cuda.is_available() else torch.device('cpu')"
      ]
    },
    {
      "cell_type": "code",
      "source": [
        "!nvidia-smi"
      ],
      "metadata": {
        "colab": {
          "base_uri": "https://localhost:8080/"
        },
        "id": "GvuiYycHtM09",
        "outputId": "3cf5543c-9cee-40da-bea2-9cabb7bb6737"
      },
      "id": "GvuiYycHtM09",
      "execution_count": null,
      "outputs": [
        {
          "output_type": "stream",
          "name": "stdout",
          "text": [
            "Sat Feb 11 02:41:08 2023       \n",
            "+-----------------------------------------------------------------------------+\n",
            "| NVIDIA-SMI 510.47.03    Driver Version: 510.47.03    CUDA Version: 11.6     |\n",
            "|-------------------------------+----------------------+----------------------+\n",
            "| GPU  Name        Persistence-M| Bus-Id        Disp.A | Volatile Uncorr. ECC |\n",
            "| Fan  Temp  Perf  Pwr:Usage/Cap|         Memory-Usage | GPU-Util  Compute M. |\n",
            "|                               |                      |               MIG M. |\n",
            "|===============================+======================+======================|\n",
            "|   0  Tesla T4            Off  | 00000000:00:04.0 Off |                    0 |\n",
            "| N/A   50C    P0    27W /  70W |      3MiB / 15360MiB |      0%      Default |\n",
            "|                               |                      |                  N/A |\n",
            "+-------------------------------+----------------------+----------------------+\n",
            "                                                                               \n",
            "+-----------------------------------------------------------------------------+\n",
            "| Processes:                                                                  |\n",
            "|  GPU   GI   CI        PID   Type   Process name                  GPU Memory |\n",
            "|        ID   ID                                                   Usage      |\n",
            "|=============================================================================|\n",
            "|  No running processes found                                                 |\n",
            "+-----------------------------------------------------------------------------+\n"
          ]
        }
      ]
    },
    {
      "cell_type": "markdown",
      "source": [
        "## wandb"
      ],
      "metadata": {
        "id": "uDT9DebGgaGn"
      },
      "id": "uDT9DebGgaGn"
    },
    {
      "cell_type": "markdown",
      "source": [
        "### Setup"
      ],
      "metadata": {
        "id": "5Z1mtxFFghTU"
      },
      "id": "5Z1mtxFFghTU"
    },
    {
      "cell_type": "code",
      "source": [
        "!pip install wandb \n",
        "# !pip install wandb -Uq"
      ],
      "metadata": {
        "id": "ap970dbHgnRm"
      },
      "id": "ap970dbHgnRm",
      "execution_count": null,
      "outputs": []
    },
    {
      "cell_type": "code",
      "source": [
        "import wandb\n",
        "\n",
        "# !wandb.login()\n",
        "!wandb login --relogin"
      ],
      "metadata": {
        "colab": {
          "base_uri": "https://localhost:8080/"
        },
        "id": "DZu1lSWfgpjh",
        "outputId": "81d44754-b2ca-42c2-af96-a03cb48cab67"
      },
      "id": "DZu1lSWfgpjh",
      "execution_count": null,
      "outputs": [
        {
          "output_type": "stream",
          "name": "stdout",
          "text": [
            "\u001b[34m\u001b[1mwandb\u001b[0m: Logging into wandb.ai. (Learn how to deploy a W&B server locally: https://wandb.me/wandb-server)\n",
            "\u001b[34m\u001b[1mwandb\u001b[0m: You can find your API key in your browser here: https://wandb.ai/authorize\n",
            "\u001b[34m\u001b[1mwandb\u001b[0m: Paste an API key from your profile and hit enter, or press ctrl+c to quit: "
          ]
        }
      ]
    },
    {
      "cell_type": "code",
      "source": [
        "#c5c19470f3b9c096d12e4ff4236c05474afa12b8"
      ],
      "metadata": {
        "id": "27R6iozZaDcf"
      },
      "id": "27R6iozZaDcf",
      "execution_count": null,
      "outputs": []
    },
    {
      "cell_type": "code",
      "source": [],
      "metadata": {
        "id": "M0jF84JPaDoj"
      },
      "id": "M0jF84JPaDoj",
      "execution_count": null,
      "outputs": []
    },
    {
      "cell_type": "markdown",
      "source": [
        "### Define the sweep"
      ],
      "metadata": {
        "id": "sjaTbf1agkml"
      },
      "id": "sjaTbf1agkml"
    },
    {
      "cell_type": "code",
      "source": [
        "sweep_config = {\n",
        "    'method': 'random'\n",
        "    }"
      ],
      "metadata": {
        "id": "BuzFY8bLg6Cd"
      },
      "id": "BuzFY8bLg6Cd",
      "execution_count": null,
      "outputs": []
    },
    {
      "cell_type": "code",
      "source": [
        "metric = {\n",
        "    'name': 'loss',\n",
        "    'goal': 'minimize'   \n",
        "    }\n",
        "\n",
        "sweep_config['metric'] = metric"
      ],
      "metadata": {
        "id": "FIyhNujig7jN"
      },
      "id": "FIyhNujig7jN",
      "execution_count": null,
      "outputs": []
    },
    {
      "cell_type": "code",
      "source": [
        "parameters_dict = ({\n",
        "    'learning_rate': {\n",
        "        # a flat distribution between 0 and 0.1\n",
        "        'distribution': 'uniform',\n",
        "        'min': 0,\n",
        "        'max': 0.1\n",
        "      },\n",
        "    })\n",
        "sweep_config['parameters'] = parameters_dict"
      ],
      "metadata": {
        "id": "7LfbuNmjg_Um"
      },
      "id": "7LfbuNmjg_Um",
      "execution_count": null,
      "outputs": []
    },
    {
      "cell_type": "code",
      "source": [
        "parameters_dict.update({\n",
        "    'batch_size': {\n",
        "        # integers between 32 and 256\n",
        "        # with evenly-distributed logarithms \n",
        "        'distribution': 'q_log_uniform_values',\n",
        "        'q': 8,\n",
        "        'min': 127,\n",
        "        'max': 128,},\n",
        "    'optimizer': {\n",
        "        'values': ['adam','sgd']\n",
        "        },\n",
        "    'epochs': {\n",
        "        'value': 5}\n",
        " })"
      ],
      "metadata": {
        "id": "ZoGa1J6hjszY"
      },
      "id": "ZoGa1J6hjszY",
      "execution_count": null,
      "outputs": []
    },
    {
      "cell_type": "code",
      "source": [
        "import pprint\n",
        "\n",
        "pprint.pprint(sweep_config)"
      ],
      "metadata": {
        "colab": {
          "base_uri": "https://localhost:8080/"
        },
        "id": "0pCaK-mbhUBe",
        "outputId": "78556b00-beb7-4bf3-ac45-78245a7679fe"
      },
      "id": "0pCaK-mbhUBe",
      "execution_count": null,
      "outputs": [
        {
          "output_type": "stream",
          "name": "stdout",
          "text": [
            "{'method': 'random',\n",
            " 'metric': {'goal': 'minimize', 'name': 'loss'},\n",
            " 'parameters': {'batch_size': {'distribution': 'q_log_uniform_values',\n",
            "                               'max': 128,\n",
            "                               'min': 127,\n",
            "                               'q': 8},\n",
            "                'epochs': {'value': 5},\n",
            "                'learning_rate': {'distribution': 'uniform',\n",
            "                                  'max': 0.1,\n",
            "                                  'min': 0},\n",
            "                'optimizer': {'values': ['adam', 'sgd']}}}\n"
          ]
        }
      ]
    },
    {
      "cell_type": "markdown",
      "source": [
        "### Initialize the Sweep"
      ],
      "metadata": {
        "id": "LSD9YdvvhVZ7"
      },
      "id": "LSD9YdvvhVZ7"
    },
    {
      "cell_type": "code",
      "source": [
        "sweep_id = wandb.sweep(sweep_config, project=\"pytorch-sweeps-demo-2-test\")"
      ],
      "metadata": {
        "colab": {
          "base_uri": "https://localhost:8080/"
        },
        "id": "DJKjim7AhZdP",
        "outputId": "08609166-4ed2-43f2-c75c-ff5cb557d3e2"
      },
      "id": "DJKjim7AhZdP",
      "execution_count": null,
      "outputs": [
        {
          "output_type": "stream",
          "name": "stdout",
          "text": [
            "Create sweep with ID: oqyoubrt\n",
            "Sweep URL: https://wandb.ai/dcv_block-/pytorch-sweeps-demo-2-test/sweeps/oqyoubrt\n"
          ]
        }
      ]
    },
    {
      "cell_type": "markdown",
      "source": [
        "### Run your Training procedure"
      ],
      "metadata": {
        "id": "jsC9kbUhhdm4"
      },
      "id": "jsC9kbUhhdm4"
    },
    {
      "cell_type": "code",
      "source": [
        "import random\n",
        "import pandas as pd\n",
        "import numpy as np\n",
        "import os\n",
        "import cv2\n",
        "\n",
        "import torch\n",
        "import torch.nn as nn\n",
        "import torch.optim as optim\n",
        "import torch.nn.functional as F\n",
        "from torch.utils.data import Dataset, DataLoader\n",
        "\n",
        "import albumentations as A\n",
        "from albumentations.pytorch.transforms import ToTensorV2\n",
        "import torchvision.models as models\n",
        "\n",
        "from tqdm.auto import tqdm\n",
        "from sklearn.metrics import accuracy_score\n",
        "\n",
        "import warnings\n",
        "warnings.filterwarnings(action='ignore') "
      ],
      "metadata": {
        "id": "m0Zy2Ld6qLhL"
      },
      "id": "m0Zy2Ld6qLhL",
      "execution_count": null,
      "outputs": []
    },
    {
      "cell_type": "code",
      "source": [
        "import pandas as pd\n",
        "import cv2\n",
        "df = pd.read_csv('./train.csv')\n",
        "df = df.sample(frac=1)\n",
        "train_len = int(len(df) * 0.8)\n",
        "\n",
        "train = df[:train_len]\n",
        "val = df[train_len:]\n",
        "\n",
        "cv2.imread(train['img_path'].values[0]).shape\n",
        "\n",
        "train['img_path']"
      ],
      "metadata": {
        "colab": {
          "base_uri": "https://localhost:8080/"
        },
        "id": "RFhb0BvYh_k0",
        "outputId": "ebc3e967-b46c-4228-fbd4-0b27ca7bd0ea"
      },
      "id": "RFhb0BvYh_k0",
      "execution_count": null,
      "outputs": [
        {
          "output_type": "execute_result",
          "data": {
            "text/plain": [
              "1628     ./train/TRAIN_01628.jpg\n",
              "2683     ./train/TRAIN_02683.jpg\n",
              "30494    ./train/TRAIN_30494.jpg\n",
              "697      ./train/TRAIN_00697.jpg\n",
              "4810     ./train/TRAIN_04810.jpg\n",
              "                  ...           \n",
              "1230     ./train/TRAIN_01230.jpg\n",
              "30273    ./train/TRAIN_30273.jpg\n",
              "25200    ./train/TRAIN_25200.jpg\n",
              "10870    ./train/TRAIN_10870.jpg\n",
              "22445    ./train/TRAIN_22445.jpg\n",
              "Name: img_path, Length: 26395, dtype: object"
            ]
          },
          "metadata": {},
          "execution_count": 18
        }
      ]
    },
    {
      "cell_type": "code",
      "source": [
        "def get_labels(df):\n",
        "    return df.iloc[:,2:].values\n",
        "\n",
        "train_labels = get_labels(train)"
      ],
      "metadata": {
        "id": "529hluORiM7p"
      },
      "id": "529hluORiM7p",
      "execution_count": null,
      "outputs": []
    },
    {
      "cell_type": "code",
      "source": [
        "print(train_labels)"
      ],
      "metadata": {
        "colab": {
          "base_uri": "https://localhost:8080/"
        },
        "id": "3zI_Tsh5iOgZ",
        "outputId": "8b93220d-7877-482c-824b-4a2ca51b4122"
      },
      "id": "3zI_Tsh5iOgZ",
      "execution_count": null,
      "outputs": [
        {
          "output_type": "stream",
          "name": "stdout",
          "text": [
            "[[1 0 1 ... 0 0 0]\n",
            " [0 1 0 ... 1 0 0]\n",
            " [0 0 1 ... 1 0 0]\n",
            " ...\n",
            " [1 0 0 ... 1 0 0]\n",
            " [1 0 0 ... 1 1 1]\n",
            " [0 0 0 ... 0 0 0]]\n"
          ]
        }
      ]
    },
    {
      "cell_type": "code",
      "source": [
        "class CustomDataset(Dataset):\n",
        "    def __init__(self, img_path_list, label_list, transforms=None):\n",
        "        self.img_path_list = img_path_list\n",
        "        self.label_list = label_list\n",
        "        self.transforms = transforms\n",
        "        \n",
        "    def __getitem__(self, index):\n",
        "        img_path = self.img_path_list[index]\n",
        "        \n",
        "        image = cv2.imread(img_path)\n",
        "        \n",
        "        if self.transforms is not None:\n",
        "            image = self.transforms(image=image)['image']\n",
        "        \n",
        "        if self.label_list is not None:\n",
        "            label = torch.FloatTensor(self.label_list[index])\n",
        "            return image, label\n",
        "        else:\n",
        "            return image\n",
        "        \n",
        "    def __len__(self):\n",
        "        return len(self.img_path_list)"
      ],
      "metadata": {
        "id": "J5orF09GiRLp"
      },
      "id": "J5orF09GiRLp",
      "execution_count": null,
      "outputs": []
    },
    {
      "cell_type": "code",
      "source": [
        "class BaseModel(nn.Module):\n",
        "    def __init__(self, num_classes=10):\n",
        "        super(BaseModel, self).__init__()\n",
        "        self.backbone = models.efficientnet_b0(pretrained=True)\n",
        "        self.classifier = nn.Linear(1000, num_classes)\n",
        "        \n",
        "    def forward(self, x):\n",
        "        x = self.backbone(x)\n",
        "        x = F.sigmoid(self.classifier(x))\n",
        "        return x"
      ],
      "metadata": {
        "id": "aBC4sE9DiUb_"
      },
      "id": "aBC4sE9DiUb_",
      "execution_count": null,
      "outputs": []
    },
    {
      "cell_type": "code",
      "source": [],
      "metadata": {
        "id": "r3zCZkxHh_h9"
      },
      "id": "r3zCZkxHh_h9",
      "execution_count": null,
      "outputs": []
    },
    {
      "cell_type": "code",
      "source": [
        "import torch\n",
        "import torch.optim as optim\n",
        "import torch.nn.functional as F\n",
        "import torch.nn as nn\n",
        "from torchvision import datasets, transforms\n",
        "\n",
        "device = torch.device(\"cuda\" if torch.cuda.is_available() else \"cpu\")\n",
        "\n",
        "def train_wow(config=None):\n",
        "    # Initialize a new wandb run\n",
        "    with wandb.init(config=config):\n",
        "        # If called by wandb.agent, as below,\n",
        "        # this config will be set by Sweep Controller\n",
        "        config = wandb.config\n",
        "\n",
        "        loader = build_dataset(config.batch_size)\n",
        "        network = build_network()\n",
        "        optimizer = build_optimizer(network, config.optimizer, config.learning_rate)\n",
        "\n",
        "        for epoch in range(config.epochs):\n",
        "            avg_loss = train_epoch(network, loader, optimizer)\n",
        "            wandb.log({\"loss\": avg_loss, \"epoch\": epoch})           "
      ],
      "metadata": {
        "id": "muSCfcP9h_pw"
      },
      "id": "muSCfcP9h_pw",
      "execution_count": null,
      "outputs": []
    },
    {
      "cell_type": "code",
      "source": [
        "def build_dataset(batch_size):\n",
        "    \n",
        "    # wandb.config.batch_size = 128\n",
        "    img_size = 224\n",
        "    train_transform = A.Compose([\n",
        "                                A.Resize(img_size, img_size),\n",
        "                                A.Normalize(mean=(0.485, 0.456, 0.406), std=(0.229, 0.224, 0.225), max_pixel_value=255.0, always_apply=False, p=1.0),\n",
        "                                ToTensorV2()\n",
        "                                ])\n",
        "\n",
        "    train_dataset = CustomDataset(train['img_path'].values, train_labels, train_transform)\n",
        "    loader = DataLoader(train_dataset, batch_size = batch_size, shuffle=True, num_workers=0)\n",
        "    return loader\n",
        "\n",
        "def build_network():\n",
        "    network = BaseModel()\n",
        "\n",
        "    return network.to(device)\n",
        "\n",
        "def build_optimizer(network, optimizer, learning_rate):\n",
        "    if optimizer == \"sgd\":\n",
        "        optimizer = optim.SGD(network.parameters(),\n",
        "                              lr=learning_rate, momentum=0.9)\n",
        "    elif optimizer == \"adam\":\n",
        "        optimizer = optim.Adam(network.parameters(),\n",
        "                               lr=learning_rate)\n",
        "    return optimizer\n",
        "\n",
        "def train_epoch(network, loader, optimizer):\n",
        "    \n",
        "    criterion = nn.BCELoss().to(device)    \n",
        "    train_loss = []\n",
        "    for imgs, labels in tqdm(iter(loader)):\n",
        "        imgs = imgs.float().to(device)\n",
        "        labels = labels.to(device)\n",
        "        \n",
        "        optimizer.zero_grad()\n",
        "        \n",
        "        output = network(imgs)\n",
        "        loss = criterion(output, labels)\n",
        "        \n",
        "        train_loss.append(loss.item())\n",
        "        _train_loss= np.mean(train_loss)\n",
        "        \n",
        "        loss.backward()\n",
        "        optimizer.step()\n",
        "        \n",
        "        \n",
        "        wandb.log({\"batch loss\": loss.item()})\n",
        "    return _train_loss "
      ],
      "metadata": {
        "id": "4H1Sf8uMh_nI"
      },
      "id": "4H1Sf8uMh_nI",
      "execution_count": null,
      "outputs": []
    },
    {
      "cell_type": "code",
      "source": [
        "wandb.agent(sweep_id, train_wow, count=100)"
      ],
      "metadata": {
        "colab": {
          "base_uri": "https://localhost:8080/",
          "height": 160
        },
        "id": "nIooWvY1h_sN",
        "outputId": "39183246-f407-4a41-c297-1eddc973fff7"
      },
      "id": "nIooWvY1h_sN",
      "execution_count": null,
      "outputs": [
        {
          "output_type": "stream",
          "name": "stderr",
          "text": [
            "\u001b[34m\u001b[1mwandb\u001b[0m: Agent Starting Run: h52dpvja with config:\n",
            "\u001b[34m\u001b[1mwandb\u001b[0m: \tbatch_size: 128\n",
            "\u001b[34m\u001b[1mwandb\u001b[0m: \tepochs: 5\n",
            "\u001b[34m\u001b[1mwandb\u001b[0m: \tlearning_rate: 0.07244602619561315\n",
            "\u001b[34m\u001b[1mwandb\u001b[0m: \toptimizer: adam\n",
            "ERROR:wandb.jupyter:Failed to detect the name of this notebook, you can set it manually with the WANDB_NOTEBOOK_NAME environment variable to enable code saving.\n",
            "\u001b[34m\u001b[1mwandb\u001b[0m: Currently logged in as: \u001b[33mugiugi\u001b[0m (\u001b[33mdcv_block-\u001b[0m). Use \u001b[1m`wandb login --relogin`\u001b[0m to force relogin\n",
            "\u001b[34m\u001b[1mwandb\u001b[0m: Ctrl + C detected. Stopping sweep.\n"
          ]
        }
      ]
    }
  ],
  "metadata": {
    "kernelspec": {
      "display_name": "Python 3 (ipykernel)",
      "language": "python",
      "name": "python3"
    },
    "language_info": {
      "codemirror_mode": {
        "name": "ipython",
        "version": 3
      },
      "file_extension": ".py",
      "mimetype": "text/x-python",
      "name": "python",
      "nbconvert_exporter": "python",
      "pygments_lexer": "ipython3",
      "version": "3.8.3"
    },
    "colab": {
      "provenance": [],
      "machine_shape": "hm",
      "collapsed_sections": [
        "a2bcba5f-002e-4f49-9622-ada6117faf0a",
        "fc7df3f2-62d0-4499-a46e-47d01699def0",
        "4254e860-ff82-43ba-bfa3-fcee4eb3ddbd",
        "05a4172e-5791-446f-9616-35c09d8bf25a",
        "0380b40a-f540-4225-8ffc-50059fd28a2c",
        "ad2d1e99-e723-4eb8-973c-b7eb2f8a771a",
        "ac27ed36-8031-47a7-bd0d-a913513f2e8e",
        "39962463-032f-490a-a76d-c03991795f38",
        "6gyPxqirthh8",
        "122af0aa-a1fd-4595-9488-35761e3cb596",
        "51da39f9-904f-4abd-a7d2-cdf29c4a6c24",
        "d32efed9-ec88-40fc-83d2-e995e48c372a",
        "370e5a18-de28-4c3d-a33b-77d4797911eb"
      ]
    },
    "accelerator": "GPU",
    "gpuClass": "standard"
  },
  "nbformat": 4,
  "nbformat_minor": 5
}
